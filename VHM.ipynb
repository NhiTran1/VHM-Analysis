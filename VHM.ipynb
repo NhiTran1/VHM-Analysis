{
 "cells": [
  {
   "cell_type": "markdown",
   "source": [
    "**Import thư viện**"
   ],
   "metadata": {
    "collapsed": false
   },
   "id": "30af5e769aa9c1e7"
  },
  {
   "cell_type": "code",
   "execution_count": 1,
   "outputs": [
    {
     "name": "stderr",
     "output_type": "stream",
     "text": [
      "C:\\Users\\binhn\\AppData\\Local\\Temp\\ipykernel_7672\\835576624.py:2: UserWarning: \n",
      "The dash_core_components package is deprecated. Please replace\n",
      "`import dash_core_components as dcc` with `from dash import dcc`\n",
      "  import dash_core_components as dcc\n",
      "C:\\Users\\binhn\\AppData\\Local\\Temp\\ipykernel_7672\\835576624.py:3: UserWarning: \n",
      "The dash_html_components package is deprecated. Please replace\n",
      "`import dash_html_components as html` with `from dash import html`\n",
      "  import dash_html_components as html\n"
     ]
    }
   ],
   "source": [
    "import dash\n",
    "import dash_core_components as dcc\n",
    "import dash_html_components as html\n",
    "from dash.dependencies import Input, Output\n",
    "import plotly.express as px\n",
    "import pandas as pd\n",
    "from plotly.subplots import make_subplots\n",
    "import plotly.graph_objs as go\n"
   ],
   "metadata": {
    "collapsed": false,
    "ExecuteTime": {
     "end_time": "2024-03-23T13:42:46.798944400Z",
     "start_time": "2024-03-23T13:42:45.309659700Z"
    }
   },
   "id": "f333b15d47beae03"
  },
  {
   "cell_type": "code",
   "execution_count": 2,
   "outputs": [],
   "source": [
    "df_price = pd.read_excel('Price-Vol VN 2015-2023.xlsx', sheet_name='Price')"
   ],
   "metadata": {
    "collapsed": false,
    "ExecuteTime": {
     "end_time": "2024-03-23T13:43:23.257616400Z",
     "start_time": "2024-03-23T13:42:46.798944400Z"
    }
   },
   "id": "f12ce8a3c41a6d49"
  },
  {
   "cell_type": "markdown",
   "source": [
    "**So sánh công ty cùng ngành**"
   ],
   "metadata": {
    "collapsed": false
   },
   "id": "4fb7a2bb7f99538f"
  },
  {
   "cell_type": "code",
   "execution_count": 3,
   "outputs": [
    {
     "name": "stderr",
     "output_type": "stream",
     "text": [
      "C:\\Users\\binhn\\AppData\\Local\\Temp\\ipykernel_7672\\2001722104.py:3: SettingWithCopyWarning: \n",
      "A value is trying to be set on a copy of a slice from a DataFrame.\n",
      "Try using .loc[row_indexer,col_indexer] = value instead\n",
      "\n",
      "See the caveats in the documentation: https://pandas.pydata.org/pandas-docs/stable/user_guide/indexing.html#returning-a-view-versus-a-copy\n",
      "  stock_data['Code'] = stock_data['Code'].str.replace('VT:', '').str.replace('(P)', '')\n",
      "C:\\Users\\binhn\\AppData\\Local\\Temp\\ipykernel_7672\\2001722104.py:3: SettingWithCopyWarning: \n",
      "A value is trying to be set on a copy of a slice from a DataFrame.\n",
      "Try using .loc[row_indexer,col_indexer] = value instead\n",
      "\n",
      "See the caveats in the documentation: https://pandas.pydata.org/pandas-docs/stable/user_guide/indexing.html#returning-a-view-versus-a-copy\n",
      "  stock_data['Code'] = stock_data['Code'].str.replace('VT:', '').str.replace('(P)', '')\n",
      "C:\\Users\\binhn\\AppData\\Local\\Temp\\ipykernel_7672\\2001722104.py:3: SettingWithCopyWarning: \n",
      "A value is trying to be set on a copy of a slice from a DataFrame.\n",
      "Try using .loc[row_indexer,col_indexer] = value instead\n",
      "\n",
      "See the caveats in the documentation: https://pandas.pydata.org/pandas-docs/stable/user_guide/indexing.html#returning-a-view-versus-a-copy\n",
      "  stock_data['Code'] = stock_data['Code'].str.replace('VT:', '').str.replace('(P)', '')\n",
      "C:\\Users\\binhn\\AppData\\Local\\Temp\\ipykernel_7672\\2001722104.py:3: SettingWithCopyWarning: \n",
      "A value is trying to be set on a copy of a slice from a DataFrame.\n",
      "Try using .loc[row_indexer,col_indexer] = value instead\n",
      "\n",
      "See the caveats in the documentation: https://pandas.pydata.org/pandas-docs/stable/user_guide/indexing.html#returning-a-view-versus-a-copy\n",
      "  stock_data['Code'] = stock_data['Code'].str.replace('VT:', '').str.replace('(P)', '')\n",
      "C:\\Users\\binhn\\AppData\\Local\\Temp\\ipykernel_7672\\2001722104.py:3: SettingWithCopyWarning: \n",
      "A value is trying to be set on a copy of a slice from a DataFrame.\n",
      "Try using .loc[row_indexer,col_indexer] = value instead\n",
      "\n",
      "See the caveats in the documentation: https://pandas.pydata.org/pandas-docs/stable/user_guide/indexing.html#returning-a-view-versus-a-copy\n",
      "  stock_data['Code'] = stock_data['Code'].str.replace('VT:', '').str.replace('(P)', '')\n"
     ]
    }
   ],
   "source": [
    "def process_stock_data(df, code):\n",
    "    stock_data = df[df['Code'] == code]\n",
    "    stock_data['Code'] = stock_data['Code'].str.replace('VT:', '').str.replace('(P)', '')\n",
    "    stock_data = stock_data.melt(id_vars=['Name', 'Code', 'CURRENCY'],\n",
    "                                 value_vars=stock_data.columns[2:-6],\n",
    "                                 var_name='Date',\n",
    "                                 value_name='Stock_Price')\n",
    "    stock_data.sort_values(by=['Code', 'Date'], inplace=True)\n",
    "    stock_data['Date'] = pd.to_datetime(stock_data['Date'], format='%Y-%m-%d')\n",
    "    stock_data = stock_data.dropna(subset=['Stock_Price'])\n",
    "    return stock_data\n",
    "\n",
    "vhm = process_stock_data(df_price, 'VT:VHM(P)')\n",
    "nvl = process_stock_data(df_price, 'VT:NVL(P)')\n",
    "pdr = process_stock_data(df_price, 'VT:PDR(P)')\n",
    "kdh = process_stock_data(df_price, 'VT:KDH(P)')\n",
    "nlg = process_stock_data(df_price, 'VT:NLG(P)')"
   ],
   "metadata": {
    "collapsed": false,
    "ExecuteTime": {
     "end_time": "2024-03-23T13:43:24.029572300Z",
     "start_time": "2024-03-23T13:43:23.264814900Z"
    }
   },
   "id": "5943bca2b887a773"
  },
  {
   "cell_type": "code",
   "execution_count": 4,
   "outputs": [],
   "source": [
    "def price_comparison_chart():\n",
    "    fig = go.Figure()\n",
    "    \n",
    "    start_date = '2018-01-01'\n",
    "    vhm_filtered = vhm[vhm['Date'] >= start_date]\n",
    "    nvl_filtered = nvl[nvl['Date'] >= start_date]\n",
    "    kdh_filtered = kdh[kdh['Date'] >= start_date]\n",
    "    pdr_filtered = pdr[pdr['Date'] >= start_date]\n",
    "    nlg_filtered = nlg[nlg['Date'] >= start_date]\n",
    "    \n",
    "    fig.add_trace(go.Scatter(x=vhm_filtered['Date'], y=vhm_filtered['Stock_Price'], mode='lines', name='VHM'))\n",
    "    fig.add_trace(go.Scatter(x=nvl_filtered['Date'], y=nvl_filtered['Stock_Price'], mode='lines', name='NVL'))\n",
    "    fig.add_trace(go.Scatter(x=kdh_filtered['Date'], y=kdh_filtered['Stock_Price'], mode='lines', name='KDH'))\n",
    "    fig.add_trace(go.Scatter(x=pdr_filtered['Date'], y=pdr_filtered['Stock_Price'], mode='lines', name='PDR'))\n",
    "    fig.add_trace(go.Scatter(x=nlg_filtered['Date'], y=nlg_filtered['Stock_Price'], mode='lines', name='NLG'))\n",
    "\n",
    "    fig.update_layout(\n",
    "        xaxis_title='Ngày',\n",
    "        yaxis_title='Giá cổ phiếu',\n",
    "        title='Biểu đồ giá của VHM, KDH, NVL, PDR và NLG'\n",
    "    )\n",
    "    return dcc.Graph(figure=fig)"
   ],
   "metadata": {
    "collapsed": false,
    "ExecuteTime": {
     "end_time": "2024-03-23T13:43:24.040374200Z",
     "start_time": "2024-03-23T13:43:24.036877Z"
    }
   },
   "id": "a5884c582ae32d10"
  },
  {
   "cell_type": "code",
   "execution_count": 5,
   "outputs": [],
   "source": [
    "def process_excel_file(file_path, year):\n",
    "    df = pd.read_excel(file_path, skiprows=8, header=0)\n",
    "    \n",
    "    cols_to_drop = [\n",
    "        'Sàn', 'Ngành ICB - cấp 1', 'Ngành ICB - cấp 2', 'Ngành ICB - cấp 3', 'STT',\n",
    "        f'Quý\\nHợp nhất\\nQuý: Hàng năm\\nNăm: {year}\\n',\n",
    "        f'Năm\\nHợp nhất\\nQuý: Hàng năm\\nNăm: {year}\\n',\n",
    "        f'Trạng thái kiểm toán\\nHợp nhất\\nQuý: Hàng năm\\nNăm: {year}\\n'\n",
    "    ]\n",
    "    df = df.drop(columns=cols_to_drop)\n",
    "\n",
    "    df.columns = df.columns.str.replace(\"CĐKT.\", \"\").str.replace(\"TM.\", \"\").str.replace(\n",
    "        f\"\\nHợp nhất\\nQuý: Hàng năm\\nNăm: {year}\\nĐơn vị: Triệu VND\", \"\").str.replace(\"KQKD.\", \"\").str.replace(\"LCTT.\", \"\")\n",
    "    return df\n",
    "\n",
    "df_2022 = process_excel_file(\"2022-Vietnam.xlsx\", 2022)\n",
    "df_2018 = process_excel_file(\"2021-Vietnam.xlsx\", 2018)\n",
    "df_2019 = process_excel_file(\"2020-Vietnam.xlsx\", 2019)\n",
    "df_2021 = process_excel_file(\"2018-Vietnam.xlsx\", 2021)\n",
    "df_2020 = process_excel_file(\"2019-Vietnam.xlsx\", 2020)"
   ],
   "metadata": {
    "collapsed": false,
    "ExecuteTime": {
     "end_time": "2024-03-23T13:43:41.334853500Z",
     "start_time": "2024-03-23T13:43:24.040374200Z"
    }
   },
   "id": "6d0fcc920f2fb3d0"
  },
  {
   "cell_type": "code",
   "execution_count": 6,
   "outputs": [
    {
     "name": "stderr",
     "output_type": "stream",
     "text": [
      "C:\\Users\\binhn\\AppData\\Local\\Temp\\ipykernel_7672\\1578036831.py:2: SettingWithCopyWarning: \n",
      "A value is trying to be set on a copy of a slice from a DataFrame.\n",
      "Try using .loc[row_indexer,col_indexer] = value instead\n",
      "\n",
      "See the caveats in the documentation: https://pandas.pydata.org/pandas-docs/stable/user_guide/indexing.html#returning-a-view-versus-a-copy\n",
      "  df_comparison_2022['Tỷ lệ Nợ/Tổng tài sản (%)'] = (df_comparison_2022[' NỢ PHẢI TRẢ'] / df_comparison_2022[' TỔNG CỘNG TÀI SẢN']) * 100\n",
      "C:\\Users\\binhn\\AppData\\Local\\Temp\\ipykernel_7672\\1578036831.py:3: SettingWithCopyWarning: \n",
      "A value is trying to be set on a copy of a slice from a DataFrame.\n",
      "Try using .loc[row_indexer,col_indexer] = value instead\n",
      "\n",
      "See the caveats in the documentation: https://pandas.pydata.org/pandas-docs/stable/user_guide/indexing.html#returning-a-view-versus-a-copy\n",
      "  df_comparison_2022['EBIT'] = df_comparison_2022[' Lợi nhuận gộp về bán hàng và cung cấp dịch vụ'] - df_comparison_2022[' Chi phí bán hàng'] - df_comparison_2022[' Chi phí quản lý doanh  nghiệp'] + df_comparison_2022[' Doanh thu hoạt động tài chính khác']\n",
      "C:\\Users\\binhn\\AppData\\Local\\Temp\\ipykernel_7672\\1578036831.py:4: SettingWithCopyWarning: \n",
      "A value is trying to be set on a copy of a slice from a DataFrame.\n",
      "Try using .loc[row_indexer,col_indexer] = value instead\n",
      "\n",
      "See the caveats in the documentation: https://pandas.pydata.org/pandas-docs/stable/user_guide/indexing.html#returning-a-view-versus-a-copy\n",
      "  df_comparison_2022['Tỷ số thanh toán lãi vay (TIE)'] = df_comparison_2022['EBIT'] / ( - df_comparison_2022[' Trong đó: Chi phí lãi vay'])\n",
      "C:\\Users\\binhn\\AppData\\Local\\Temp\\ipykernel_7672\\1578036831.py:5: SettingWithCopyWarning: \n",
      "A value is trying to be set on a copy of a slice from a DataFrame.\n",
      "Try using .loc[row_indexer,col_indexer] = value instead\n",
      "\n",
      "See the caveats in the documentation: https://pandas.pydata.org/pandas-docs/stable/user_guide/indexing.html#returning-a-view-versus-a-copy\n",
      "  df_comparison_2022['ROE (%)'] = (df_comparison_2022[' Lợi nhuận sau thuế thu nhập doanh nghiệp'] / df_comparison_2022[' VỐN CHỦ SỞ HỮU']) * 100\n"
     ]
    }
   ],
   "source": [
    "df_comparison_2022 = df_2022[df_2022['Ngành ICB - cấp 4'] == 'Bất động sản']\n",
    "df_comparison_2022['Tỷ lệ Nợ/Tổng tài sản (%)'] = (df_comparison_2022[' NỢ PHẢI TRẢ'] / df_comparison_2022[' TỔNG CỘNG TÀI SẢN']) * 100\n",
    "df_comparison_2022['EBIT'] = df_comparison_2022[' Lợi nhuận gộp về bán hàng và cung cấp dịch vụ'] - df_comparison_2022[' Chi phí bán hàng'] - df_comparison_2022[' Chi phí quản lý doanh  nghiệp'] + df_comparison_2022[' Doanh thu hoạt động tài chính khác']\n",
    "df_comparison_2022['Tỷ số thanh toán lãi vay (TIE)'] = df_comparison_2022['EBIT'] / ( - df_comparison_2022[' Trong đó: Chi phí lãi vay'])\n",
    "df_comparison_2022['ROE (%)'] = (df_comparison_2022[' Lợi nhuận sau thuế thu nhập doanh nghiệp'] / df_comparison_2022[' VỐN CHỦ SỞ HỮU']) * 100\n",
    "\n",
    "selected_companies = ['VHM', 'KDH', 'NVL', 'PDR', 'NLG']\n",
    "df_selected = df_comparison_2022[df_comparison_2022['Mã'].isin(selected_companies)]"
   ],
   "metadata": {
    "collapsed": false,
    "ExecuteTime": {
     "end_time": "2024-03-23T13:43:41.391767700Z",
     "start_time": "2024-03-23T13:43:41.334853500Z"
    }
   },
   "id": "c5f9b71cc5067353"
  },
  {
   "cell_type": "code",
   "execution_count": 7,
   "outputs": [],
   "source": [
    "def debt_chart():\n",
    "    fig = go.Figure()\n",
    "    fig = px.bar(df_selected, x='Mã', y=['Tỷ lệ Nợ/Tổng tài sản (%)', 'Tỷ số thanh toán lãi vay (TIE)'],\n",
    "                 title='So sánh Tỷ lệ Nợ/ Tổng tài sản và TIE trong năm 2022',\n",
    "                 labels={'variable': 'Chỉ số', 'value': 'Giá trị'},\n",
    "                 color_discrete_sequence=['#235284', '#b8e2f4', '#000000'],\n",
    "                 barmode='group')\n",
    "    fig.show()\n",
    "    return dcc.Graph(figure=fig)"
   ],
   "metadata": {
    "collapsed": false,
    "ExecuteTime": {
     "end_time": "2024-03-23T13:43:41.477581300Z",
     "start_time": "2024-03-23T13:43:41.382493500Z"
    }
   },
   "id": "c3727d902595cd0d"
  },
  {
   "cell_type": "code",
   "execution_count": 8,
   "outputs": [],
   "source": [
    "def cash_flow():\n",
    "    fig = go.Figure()\n",
    "    fig = px.bar(df_selected, x='Mã', y=[' Lưu chuyển tiền tệ ròng từ các hoạt động sản xuất kinh doanh (TT)',\n",
    "                                         ' Lưu chuyển tiền tệ từ hoạt động tài chính (TT)'],\n",
    "                 title='So sánh Dòng tiền từ hoạt động kinh doanh, tài chính năm 2022',\n",
    "                 labels={'variable': 'Chỉ số', 'value': 'Giá trị'},\n",
    "                 color_discrete_sequence=['#235284', '#b8e2f4'],\n",
    "                 barmode='group')\n",
    "    fig.show()\n",
    "    return dcc.Graph(figure=fig)"
   ],
   "metadata": {
    "collapsed": false,
    "ExecuteTime": {
     "end_time": "2024-03-23T13:43:41.509582300Z",
     "start_time": "2024-03-23T13:43:41.382493500Z"
    }
   },
   "id": "6f2e7f9e1d2314a"
  },
  {
   "cell_type": "code",
   "execution_count": 9,
   "outputs": [],
   "source": [
    "def revenue_comparison():\n",
    "    df_comparison_2022['Tỷ trọng doanh thu'] = round(df_comparison_2022[' Lợi nhuận sau thuế thu nhập doanh nghiệp'] /\n",
    "                                                     df_comparison_2022[' Lợi nhuận sau thuế thu nhập doanh nghiệp'].sum() * 100, 1)\n",
    "    fig = go.Figure()\n",
    "    df_2022_sorted = df_comparison_2022.sort_values(by='Tỷ trọng doanh thu', ascending=False)\n",
    "    fig = px.pie(df_2022_sorted, names='Mã', values='Tỷ trọng doanh thu', \n",
    "                 title='Tỷ trọng doanh thu của các công ty trong tổng ngành')\n",
    "    top_5_labels = df_2022_sorted.head(5)['Mã']\n",
    "    df_2022_sorted['labels'] = df_2022_sorted.apply(lambda row: f\"{row['Mã']} {row['Tỷ trọng doanh thu']}\" \n",
    "                                    if row['Mã'] in top_5_labels.values else '', axis=1)\n",
    "    fig.update_traces(textinfo='label', textposition='inside', \n",
    "                      insidetextorientation='radial', \n",
    "                      text=df_2022_sorted['labels'])\n",
    "    fig.update_layout(\n",
    "        title_text='Tỷ trọng doanh thu của các công ty trong ngành bất động sản (2022)',\n",
    "        showlegend=False\n",
    "    )\n",
    "    return dcc.Graph(figure=fig)"
   ],
   "metadata": {
    "collapsed": false,
    "ExecuteTime": {
     "end_time": "2024-03-23T13:43:41.509582300Z",
     "start_time": "2024-03-23T13:43:41.397776100Z"
    }
   },
   "id": "36bbb53990ba4bdd"
  },
  {
   "cell_type": "code",
   "execution_count": 10,
   "outputs": [],
   "source": [
    "def generate_industry_comparison():\n",
    "    app = dash.Dash(__name__)\n",
    "\n",
    "    app.layout = html.Div([\n",
    "        html.H1(\"So sánh các công ty dẫn đầu trong ngành Bất động sản\"),\n",
    "        html.Div([\n",
    "            html.Div([\n",
    "                price_comparison_chart()\n",
    "            ], className='six columns'),\n",
    "            html.Div([\n",
    "                revenue_comparison()\n",
    "            ], className='six columns')\n",
    "        ], className='row'),\n",
    "        html.Div([\n",
    "            html.Div([\n",
    "                cash_flow()\n",
    "            ], className='four columns')\n",
    "        ], className='row'),\n",
    "        html.Div([\n",
    "            html.Div([\n",
    "                debt_chart()\n",
    "            ], className='four columns')\n",
    "        ], className='row')\n",
    "    ])\n",
    "    \n",
    "    return app.layout"
   ],
   "metadata": {
    "collapsed": false,
    "ExecuteTime": {
     "end_time": "2024-03-23T13:43:41.509582300Z",
     "start_time": "2024-03-23T13:43:41.404985400Z"
    }
   },
   "id": "b8095986aea683a0"
  },
  {
   "cell_type": "markdown",
   "source": [
    "**Phân tích báo cáo tài chính**"
   ],
   "metadata": {
    "collapsed": false
   },
   "id": "ec63369972fe9d42"
  },
  {
   "cell_type": "code",
   "execution_count": 11,
   "outputs": [],
   "source": [
    "def select_vhm(df, year):\n",
    "    selected_df = df[df['Mã'] == 'VHM']\n",
    "    selected_df.insert(0, 'Năm', year)\n",
    "    return selected_df\n",
    "\n",
    "df_vhm_2022 = select_vhm(df_2022, 2022)\n",
    "df_vhm_2020 = select_vhm(df_2020, 2020)\n",
    "df_vhm_2019 = select_vhm(df_2019, 2019)\n",
    "df_vhm_2018 = select_vhm(df_2018, 2018)\n",
    "df_vhm_2021 = select_vhm(df_2021, 2021)\n",
    "\n",
    "df_vhm = pd.concat([df_vhm_2021, df_vhm_2020, df_vhm_2019, df_vhm_2018, df_vhm_2022])\n",
    "df_vhm = df_vhm.sort_values(by='Năm')"
   ],
   "metadata": {
    "collapsed": false,
    "ExecuteTime": {
     "end_time": "2024-03-23T13:43:41.509582300Z",
     "start_time": "2024-03-23T13:43:41.413973400Z"
    }
   },
   "id": "4168a943fafdcc34"
  },
  {
   "cell_type": "code",
   "execution_count": 12,
   "outputs": [],
   "source": [
    "def asset():\n",
    "    fig = go.Figure()\n",
    "    \n",
    "    fig.add_trace(go.Bar(x=df_vhm['Năm'], y=df_vhm[' Tiền và tương đương tiền'], name='Tiền và tương đương tiền',\n",
    "                         marker_color='#808080'))\n",
    "    fig.add_trace(go.Bar(x=df_vhm['Năm'], y=df_vhm[' Các khoản phải thu ngắn hạn'] + df_vhm[ ' Phải thu dài hạn'], name='Phải thu',\n",
    "                         marker_color='#add8e6'))\n",
    "    fig.add_trace(go.Bar(x=df_vhm['Năm'], y=df_vhm[' Hàng tồn kho, ròng'], name='Hàng tồn kho, ròng',\n",
    "                         marker_color='#000000'))\n",
    "    fig.add_trace(go.Bar(x=df_vhm['Năm'], y=df_vhm[' Tài sản cố định'] +df_vhm[' Tài sản dở dang dài hạn'], name='TSCĐ và TS dở dang',\n",
    "                         marker_color='#F5F5F5'))\n",
    "    fig.update_layout(\n",
    "        title='Phân bổ tài sản',\n",
    "        xaxis=dict(title='Năm',tickmode='array', tickvals= df_vhm['Năm']))\n",
    "    return dcc.Graph(figure = fig)"
   ],
   "metadata": {
    "collapsed": false,
    "ExecuteTime": {
     "end_time": "2024-03-23T13:43:41.509582300Z",
     "start_time": "2024-03-23T13:43:41.433017600Z"
    }
   },
   "id": "570dbdbc67cb2872"
  },
  {
   "cell_type": "code",
   "execution_count": 13,
   "outputs": [],
   "source": [
    "def cash():\n",
    "    columns_to_plot = [\n",
    "        ' Lưu chuyển tiền tệ ròng từ các hoạt động sản xuất kinh doanh (TT)',\n",
    "        ' Lưu chuyển tiền tệ từ hoạt động tài chính (TT)',\n",
    "        ' Lưu chuyển tiền tệ ròng từ hoạt động đầu tư (TT)',\n",
    "        ' Tiền và tương đương tiền cuối kỳ (TT)']\n",
    "    colors = {' Lưu chuyển tiền tệ ròng từ các hoạt động sản xuất kinh doanh (TT)': '#FF0000', \n",
    "        ' Lưu chuyển tiền tệ từ hoạt động tài chính (TT)': '#808080', \n",
    "        ' Lưu chuyển tiền tệ ròng từ hoạt động đầu tư (TT)': '#0000FF'}\n",
    "    fig = go.Figure()\n",
    "    for column in columns_to_plot[:-1]:  \n",
    "        fig.add_trace(go.Bar(x=df_vhm['Năm'], y=df_vhm[column], name=column,marker_color=colors[column]))\n",
    "        \n",
    "    fig.add_trace(go.Scatter(\n",
    "        x=df_vhm['Năm'], y=df_vhm[' Tiền và tương đương tiền cuối kỳ (TT)'], mode='lines+markers', name='Tiền và tương đương tiền cuối kỳ',\n",
    "        line=dict(color='royalblue', width=2),\n",
    "        marker=dict(color='royalblue', size=8)\n",
    "    ))\n",
    "\n",
    "    fig.update_layout(\n",
    "        barmode='relative', title='Biểu đồ Lưu chuyển tiền tệ và Tiền tương đương cuối kỳ theo Năm',\n",
    "        xaxis_title='năm', yaxis_title='Giá trị (TT)',)\n",
    " \n",
    "    fig.update_traces(hoverinfo=\"name+y\", hovertemplate=None)\n",
    "    return dcc.Graph(figure =fig)"
   ],
   "metadata": {
    "collapsed": false,
    "ExecuteTime": {
     "end_time": "2024-03-23T13:43:41.509582300Z",
     "start_time": "2024-03-23T13:43:41.462126500Z"
    }
   },
   "id": "23092671f145eb38"
  },
  {
   "cell_type": "code",
   "execution_count": 14,
   "outputs": [],
   "source": [
    "def profit_growth():\n",
    "    df_vhm['Biên lợi nhuận ròng'] = (df_vhm[' Lợi nhuận sau thuế thu nhập doanh nghiệp']/ df_vhm[' Doanh thu thuần'])*100\n",
    "    fig = go.Figure()\n",
    "    fig.add_trace(go.Bar(\n",
    "        x=df_vhm['Năm'],\n",
    "        y=df_vhm[' Doanh thu thuần'],\n",
    "        name='Doanh thu',\n",
    "        marker_color='#808080',\n",
    "    ))\n",
    "    fig.add_trace(go.Bar(\n",
    "        x=df_vhm['Năm'],\n",
    "        y=df_vhm[' Lợi nhuận sau thuế thu nhập doanh nghiệp'],\n",
    "        name='Lợi nhuận sau thuế',\n",
    "        marker_color='#0000FF',\n",
    "    ))\n",
    "    fig.add_trace(go.Scatter(\n",
    "        x=df_vhm['Năm'],\n",
    "        y=df_vhm['Biên lợi nhuận ròng'],\n",
    "        name='Biên lợi nhuận ròng',\n",
    "        mode='lines+markers',\n",
    "        line=dict(color='#FF0000'),\n",
    "        yaxis='y2',\n",
    "    ))\n",
    "    fig.update_layout(\n",
    "        title='Kết quả kinh doanh theo Năm',\n",
    "        xaxis=dict(title='Năm',tickmode='array', tickvals= df_vhm['Năm']),\n",
    "        yaxis=dict(title=''),\n",
    "        yaxis2=dict(title='', overlaying='y', side='right', showgrid=False, range=[0, 50]),\n",
    "        barmode='group')\n",
    "    return dcc.Graph(figure=fig)"
   ],
   "metadata": {
    "collapsed": false,
    "ExecuteTime": {
     "end_time": "2024-03-23T13:43:41.509582300Z",
     "start_time": "2024-03-23T13:43:41.463340600Z"
    }
   },
   "id": "7083d6578b7e00a1"
  },
  {
   "cell_type": "code",
   "execution_count": 15,
   "outputs": [],
   "source": [
    "def equity():\n",
    "    fig = go.Figure()\n",
    "    fig.add_trace(go.Bar(x=df_vhm['Năm'], y=df_vhm[' Vay và nợ thuê tài chính ngắn hạn'] +df_vhm[' Vay và nợ thuê tài chính dài hạn'], name='Vay nợ',\n",
    "                         marker_color='#808080'))\n",
    "    fig.add_trace(go.Bar(x=df_vhm['Năm'], y=df_vhm[' VỐN CHỦ SỞ HỮU'], name='Vốn CSH',\n",
    "                         marker_color='#add8e6'))\n",
    "    fig.add_trace(go.Bar(x=df_vhm['Năm'], y=df_vhm[' NỢ PHẢI TRẢ'] - (df_vhm[' Vay và nợ thuê tài chính ngắn hạn'] +df_vhm[' Vay và nợ thuê tài chính dài hạn']), name='Nợ khác',\n",
    "                         marker_color='#000000'))\n",
    "    fig.update_layout(title='Phân bổ nguồn vốn',\n",
    "                      xaxis=dict(title='Năm',tickmode='array', tickvals= df_vhm['Năm'])\n",
    "                      )\n",
    "    return dcc.Graph(figure = fig)"
   ],
   "metadata": {
    "collapsed": false,
    "ExecuteTime": {
     "end_time": "2024-03-23T13:43:41.509582300Z",
     "start_time": "2024-03-23T13:43:41.477581300Z"
    }
   },
   "id": "5b854b7c702d3cf4"
  },
  {
   "cell_type": "code",
   "execution_count": 16,
   "outputs": [],
   "source": [
    "def debt_asset_ratio():\n",
    "    df_vhm['Hệ số nợ'] = (df_vhm[' Vay và nợ thuê tài chính ngắn hạn'] +df_vhm[' Vay và nợ thuê tài chính dài hạn']) / df_vhm[' TỔNG CỘNG NGUỒN VỐN']\n",
    "    df_vhm['EBIT'] = df_vhm[' Tổng lợi nhuận kế toán trước thuế'] + df_vhm[' Trong đó: Chi phí lãi vay']\n",
    "    df_vhm['Tỷ số thanh toán lãi vay (TIE)'] = df_vhm['EBIT'] / ( - df_vhm[' Trong đó: Chi phí lãi vay'])\n",
    "    df_vhm['Hệ số khả năng thanh toán hiện hành'] = df_vhm[' TÀI SẢN NGẮN HẠN']/ df_vhm[' Nợ ngắn hạn']\n",
    "    fig = go.Figure()\n",
    "    fig.add_trace(go.Scatter(\n",
    "        x=df_vhm['Năm'],\n",
    "        y=df_vhm['Hệ số nợ'],\n",
    "        mode='lines+markers',\n",
    "        name='Hệ số nợ',\n",
    "        line=dict(color='#00429d'),\n",
    "    ))\n",
    "    fig.add_trace(go.Scatter(\n",
    "        x=df_vhm['Năm'],\n",
    "        y=df_vhm['Tỷ số thanh toán lãi vay (TIE)'],\n",
    "        mode='lines+markers',\n",
    "        name='Tỷ số thanh toán lãi vay (TIE)',\n",
    "        line=dict(color='coral'),\n",
    "    ))\n",
    "    fig.add_trace(go.Scatter(\n",
    "        x=df_vhm['Năm'],\n",
    "        y=df_vhm['Hệ số khả năng thanh toán hiện hành'],\n",
    "        mode='lines+markers',\n",
    "        name='Hệ số khả năng thanh toán hiện hành',\n",
    "        line=dict(color='#d64161'),\n",
    "    ))\n",
    "    fig.update_layout(\n",
    "        title='Sức khỏe tài chính',\n",
    "        xaxis=dict(title='Năm',tickmode='array', tickvals=df_vhm['Năm'].unique(), showgrid=False),\n",
    "        yaxis=dict(showgrid=False),\n",
    "    )\n",
    "    return dcc.Graph(figure=fig)"
   ],
   "metadata": {
    "collapsed": false,
    "ExecuteTime": {
     "end_time": "2024-03-23T13:43:41.509582300Z",
     "start_time": "2024-03-23T13:43:41.484850300Z"
    }
   },
   "id": "298fc88c8b2feb86"
  },
  {
   "cell_type": "code",
   "execution_count": 17,
   "outputs": [],
   "source": [
    "def generate_financial_analysis():\n",
    "    app = dash.Dash(__name__)\n",
    "\n",
    "    app.layout = html.Div([\n",
    "        html.H1(\"Biều đồ phân tích tài chính\"),\n",
    "        html.Div([\n",
    "            html.Div([\n",
    "                asset()\n",
    "            ], className='six columns'),\n",
    "            html.Div([\n",
    "                equity()\n",
    "            ], className='six columns')\n",
    "        ], className='row'),\n",
    "            html.Div([\n",
    "                cash()\n",
    "            ], className= 'six columns'),\n",
    "        html.Div([\n",
    "            html.Div([\n",
    "                profit_growth()\n",
    "            ], className='four columns'),\n",
    "            html.Div([\n",
    "                debt_asset_ratio()\n",
    "            ], className='four columns')\n",
    "        ], className='row')\n",
    "    ])\n",
    "    \n",
    "    return app.layout"
   ],
   "metadata": {
    "collapsed": false,
    "ExecuteTime": {
     "end_time": "2024-03-23T13:43:41.541380Z",
     "start_time": "2024-03-23T13:43:41.494116300Z"
    }
   },
   "id": "b1cc4e58b58ef1a1"
  },
  {
   "cell_type": "markdown",
   "source": [
    "**Phân tích kỹ thuật **"
   ],
   "metadata": {
    "collapsed": false
   },
   "id": "977456254461475b"
  },
  {
   "cell_type": "code",
   "execution_count": 18,
   "outputs": [
    {
     "name": "stderr",
     "output_type": "stream",
     "text": [
      "C:\\Users\\binhn\\AppData\\Local\\Temp\\ipykernel_7672\\3783299133.py:2: SettingWithCopyWarning: \n",
      "A value is trying to be set on a copy of a slice from a DataFrame.\n",
      "Try using .loc[row_indexer,col_indexer] = value instead\n",
      "\n",
      "See the caveats in the documentation: https://pandas.pydata.org/pandas-docs/stable/user_guide/indexing.html#returning-a-view-versus-a-copy\n",
      "  vhm_price['Code'] = vhm_price['Code'].str.replace('VT:', '').str.replace('(P)', '')\n"
     ]
    }
   ],
   "source": [
    "vhm_price = df_price[df_price['Code'] == 'VT:VHM(P)']\n",
    "vhm_price['Code'] = vhm_price['Code'].str.replace('VT:', '').str.replace('(P)', '')\n",
    "df = vhm_price.melt(id_vars=['Name', 'Code','CURRENCY'],\n",
    "                       value_vars=vhm_price.columns[2:-6],\n",
    "                       var_name='Date',\n",
    "                       value_name='Stock_Price')\n",
    "df.sort_values(by=['Code', 'Date'], inplace=True)\n",
    "df['Date'] = pd.to_datetime(df['Date'], format='%Y-%m-%d')\n",
    "df = df.dropna(subset=['Stock_Price'])"
   ],
   "metadata": {
    "collapsed": false,
    "ExecuteTime": {
     "end_time": "2024-03-23T13:43:41.794892500Z",
     "start_time": "2024-03-23T13:43:41.500073700Z"
    }
   },
   "id": "9ec0efadc3def479"
  },
  {
   "cell_type": "code",
   "execution_count": 19,
   "outputs": [],
   "source": [
    "def price_vhm():\n",
    "    fig = go.Figure()\n",
    "    fig.add_trace(go.Scatter(x=df['Date'], y=df['Stock_Price'], mode='lines', name='Giá đóng cửa'))\n",
    "    fig.update_layout(\n",
    "        xaxis_title='Date',\n",
    "        yaxis_title='Giá đóng cửa',\n",
    "        title='Biểu đồ giá của VHM',\n",
    "    )\n",
    "    return dcc.Graph(figure=fig)"
   ],
   "metadata": {
    "collapsed": false,
    "ExecuteTime": {
     "end_time": "2024-03-23T13:43:41.819018300Z",
     "start_time": "2024-03-23T13:43:41.779134900Z"
    }
   },
   "id": "8af9a62dee19dbce"
  },
  {
   "cell_type": "code",
   "execution_count": 20,
   "outputs": [],
   "source": [
    "def generate_rsi_chart():\n",
    "            fig = go.Figure()\n",
    "            fig = make_subplots(rows=2, cols=1, shared_xaxes=True, vertical_spacing=0.1)\n",
    "\n",
    "            trace1 = go.Scatter(x=df['Date'], y=df['Stock_Price'], mode='lines', name='Giá Đóng Cửa')\n",
    "            fig.add_trace(trace1, row=1, col=1)\n",
    "            df['Date'] = pd.to_datetime(df['Date'])\n",
    "            # Tính RSI\n",
    "            delta = df['Stock_Price'].diff(1)\n",
    "            gain = (delta.where(delta > 0)).fillna(0)\n",
    "            loss = (-delta.where(delta < 0)).fillna(0)\n",
    "            avg_gain = gain.rolling(window=14).mean()\n",
    "            avg_loss = loss.rolling(window=14).mean()\n",
    "            rs = avg_gain / avg_loss\n",
    "            rsi = 100 - (100 / (1 + rs))\n",
    "\n",
    "            trace2 = go.Scatter(x=df['Date'], y=rsi, mode='lines', name='RSI', line=dict(width=1))  \n",
    "            fig.add_trace(trace2, row=2, col=1)\n",
    "\n",
    "            fig.update_xaxes(type='date', tickmode='auto',row=2, col=1)\n",
    "            fig.update_yaxes(title_text=\"RSI\", row=2, col=1, range=[0, 100])  \n",
    "            \n",
    "            fig.update_xaxes(type='date', tickmode='auto',row=1, col=1,showticklabels=False  )\n",
    "            fig.update_yaxes(title_text=\"Giá\", row=1, col=1)\n",
    "            fig.update_layout(width=1000, height=600)\n",
    "            fig.update_layout(title=f\"Biểu đồ giá và RSI của VHM\")\n",
    "            return dcc.Graph(figure=fig)"
   ],
   "metadata": {
    "collapsed": false,
    "ExecuteTime": {
     "end_time": "2024-03-23T13:43:41.822603400Z",
     "start_time": "2024-03-23T13:43:41.780884100Z"
    }
   },
   "id": "cfc1a698ec902880"
  },
  {
   "cell_type": "code",
   "execution_count": 21,
   "outputs": [],
   "source": [
    "def generate_macd_chart():\n",
    "    fig = make_subplots(rows=2, cols=1, shared_xaxes=True, vertical_spacing=0.1)\n",
    "    df['Date'] = pd.to_datetime(df['Date'])\n",
    "    trace1 = go.Scatter(x=df['Date'], y=df['Stock_Price'], mode='lines', name='Giá Đóng Cửa')\n",
    "    fig.add_trace(trace1, row=1, col=1)\n",
    "    \n",
    "    short_ema = df['Stock_Price'].ewm(span=12, adjust=False).mean()\n",
    "    long_ema = df['Stock_Price'].ewm(span=26, adjust=False).mean()\n",
    "    macd = short_ema - long_ema\n",
    "    signal = macd.ewm(span=9, adjust=False).mean()\n",
    "    histogram = macd - signal\n",
    "            \n",
    "    trace2 = go.Scatter(x=df['Date'], y=macd, mode='lines', name='MACD')\n",
    "    trace3 = go.Scatter(x=df['Date'], y=signal, mode='lines', name='Signal Line')\n",
    "    trace4 = go.Bar(x=df['Date'], y=histogram, name='Histogram', base=0)\n",
    "        \n",
    "    fig.add_trace(trace2, row=2, col=1)\n",
    "    fig.add_trace(trace3, row=2, col=1)\n",
    "    fig.add_trace(trace4, row=2, col=1)\n",
    "\n",
    "    fig.update_xaxes(type='category',tickvals=df['Date'].dt.strftime('%Y-%m-%d'),row=2, col=1,showticklabels=True)\n",
    "    fig.update_yaxes(title_text=\"Giá trị MACD\", row=2, col=1)\n",
    "    \n",
    "    fig.update_xaxes(type='category',tickvals=df['Date'].dt.strftime('%Y-%m-%d'),row=1, col=1,showticklabels=False)\n",
    "    fig.update_yaxes(title_text=\"Giá\", row=1, col=1)\n",
    "    fig.update_yaxes(range=[macd.min(), macd.max()], row=2, col=1, secondary_y=True)\n",
    "    fig.update_layout(title=f\"Biểu đồ giá và MACD của VHM\")\n",
    "    return dcc.Graph(figure=fig)"
   ],
   "metadata": {
    "collapsed": false,
    "ExecuteTime": {
     "end_time": "2024-03-23T13:43:41.822603400Z",
     "start_time": "2024-03-23T13:43:41.810934300Z"
    }
   },
   "id": "b6e7129df94609f"
  },
  {
   "cell_type": "code",
   "execution_count": 22,
   "outputs": [],
   "source": [
    "def generate_sma_chart(): \n",
    "    global df\n",
    "    fig= go.Figure()\n",
    "    df['SMA30'] = df['Stock_Price'].rolling(window=30).mean()\n",
    "    df = df.dropna(subset=['SMA30'])\n",
    "    \n",
    "    fig.add_trace(go.Scatter(x=df['Date'], y=df['Stock_Price'], mode='lines', name='Stock Price'))\n",
    "    fig.add_trace(go.Scatter(x=df['Date'], y=df['SMA30'], mode='lines', name='SMA30'))\n",
    "    \n",
    "    fig.update_xaxes({'showline': False, 'showgrid': False})\n",
    "    fig.update_yaxes({'showline': False, 'showgrid': False, 'title': 'SMA30'})\n",
    "    # Cấu hình tiêu đề và hiển thị biểu đồ\n",
    "    fig.update_layout(title=f\" Biểu đồ giá và SMA30 của VHM\")\n",
    "    return dcc.Graph(figure=fig)"
   ],
   "metadata": {
    "collapsed": false,
    "ExecuteTime": {
     "end_time": "2024-03-23T13:43:41.864181400Z",
     "start_time": "2024-03-23T13:43:41.822603400Z"
    }
   },
   "id": "3db045eb3d0614a"
  },
  {
   "cell_type": "code",
   "execution_count": 23,
   "outputs": [],
   "source": [
    "def generate_bollinger_chart():\n",
    "    global df\n",
    "    fig = go.Figure()\n",
    "    df['SMA'] = df['Stock_Price'].rolling(window=20).mean()\n",
    "    df['std'] = df['Stock_Price'].rolling(window=20).std()\n",
    "    df['Upper'] = df['SMA'] + 2 * df['std']\n",
    "    df['Lower'] = df['SMA'] - 2 * df['std']\n",
    "    df = df.dropna(subset=['Upper'])\n",
    "    df = df.dropna(subset=['Lower'])\n",
    "    df = df.dropna(subset=['SMA'])\n",
    "    fig.add_trace(go.Scatter(x=df['Date'], y=df['Stock_Price'], mode='lines', name='Stock Price'))\n",
    "    fig.add_trace(go.Scatter(x=df['Date'], y=df['Upper'], mode='lines', name='Upper Bollinger Band', \n",
    "                                 line=dict(color='#1f77b4')))\n",
    "    fig.add_trace(go.Scatter(x=df['Date'], y=df['SMA'], mode='lines', name='Middle Bollinger Band', \n",
    "                                 line=dict(color='orange')))\n",
    "    fig.add_trace(go.Scatter(x=df['Date'], y=df['Lower'], mode='lines', name='Lower Bollinger Band', \n",
    "                                 line=dict(color='#1f77b4')))\n",
    "    fig.update_layout(\n",
    "        xaxis={'showline': False, 'showgrid': False},\n",
    "        yaxis={'showline': False, 'showgrid': False},\n",
    "        yaxis2={'showline': False, 'showgrid': False}\n",
    "        )\n",
    "    fig.update_traces(marker=dict(line=dict(width=6)))\n",
    "    fig.update_layout(width=1000, height=600)\n",
    "    fig.update_layout(barmode='overlay', bargap=1)\n",
    "    fig.update_layout(title=f\"Biểu đồ giá và Bollinger Bands cua VHM\")\n",
    "    return dcc.Graph(figure=fig)"
   ],
   "metadata": {
    "collapsed": false,
    "ExecuteTime": {
     "end_time": "2024-03-23T13:43:41.864181400Z",
     "start_time": "2024-03-23T13:43:41.832712500Z"
    }
   },
   "id": "ab1cb2de58572f63"
  },
  {
   "cell_type": "markdown",
   "source": [
    "**Tổng quan công ty**"
   ],
   "metadata": {
    "collapsed": false
   },
   "id": "2e2f311bf97b4192"
  },
  {
   "cell_type": "code",
   "execution_count": 24,
   "outputs": [],
   "source": [
    "def generate_company_overview():\n",
    "    return html.Div([\n",
    "        html.Details([\n",
    "            html.Summary(\"Hồ sơ công ty\", style={'fontWeight': 'bold', 'fontSize': 'large'}),\n",
    "            html.Div([\n",
    "                html.P(\"Tên đầy đủ: CTCP Vinhomes\"),\n",
    "                html.P(\"Tên tiếng Anh: Vinhomes JSC\"),\n",
    "                html.P(\"Tên viết tắt: Vinhomes.,JSC\"),\n",
    "                html.P(\"CTCP Vinhomes có tiền thân là Công ty Cổ phần Đô thị BIDV-PP được thành lập năm 2008 với vốn điều lệ ban đầu là 300 tỷ đồng. Đây là thương hiệu bất động sản trực thuộc Tập đoàn VinGroup. Năm 2018, cổ phiếu VHM giao dịch trên Sở Giao dịch Chứng khoán Thành phố Hồ Chí Minh (HOSE). Công ty hoạt động chính trong các lĩnh vực Đầu tư, phát triển và kinh doanh bất động sản nhà ở, văn phòng và các hạng mục liên quan; Chuẩn bị mặt bằng, lắp đặt trang thiết bị và hoàn thiện công trình xây dựng.\"),\n",
    "            ])\n",
    "        ]),\n",
    "        html.Details([\n",
    "            html.Summary(\"Niêm yết\", style={'fontWeight': 'bold', 'fontSize': 'large'}),\n",
    "            html.Div([\n",
    "                html.P(\"Sàn giao dịch: HOSE\"),\n",
    "                html.P(\"Nhóm ngày: Xây dựng và Bất động sản\"),\n",
    "                html.P(\"Ngành: Phát triển bất động sản\"),\n",
    "                html.P(\"Ngày niêm yết: 17/05/2018\")\n",
    "            ])\n",
    "        ]),\n",
    "        html.Details([\n",
    "            html.Summary(\"Mốc lịch sử\", style={'fontWeight': 'bold', 'fontSize': 'large'}),\n",
    "            html.Div([\n",
    "                html.P(\"- Năm 2008: Tiền thân Công ty Cổ phần Đô thị BIDV-PP được thành lập với vốn điều lệ ban đầu là 300 tỷ đồng.\"),\n",
    "                html.P(\"- Tháng 03/2009: Đổi tên thành Công ty Cổ phần Phát triển Đô thị Nam Hà Nội.\"),\n",
    "                html.P(\"- Ngày 26/06/2009: Tăng vốn điều lệ lên 500 tỷ đồng.\"),\n",
    "                html.P(\"- Ngày 05/08/2010: Tăng vốn điều lệ lên 2,000 tỷ đồng.\"),\n",
    "                html.P(\"- Ngày 28/10/2011: Trở thành công ty đại chúng theo Công văn số 3585/UBCK-QLPH của Ủy ban chứng khoán Nhà nước.\"),\n",
    "                html.P(\"- Ngày 03/11/2011: Công ty nhận được Quyết định về việc chấp thuận đăng ký giao dịch cổ phiếu tại Sở Giao dịch Chứng khoán Hà Nội (UPCoM) với mã chứng khoán là NHN.\"),\n",
    "                html.P(\"- Ngày 14/07/2017: Hủy đăng ký giao dịch trên thị trường UPCoM.\"),\n",
    "                html.P(\"- Ngày 01/02/2018: Tăng vốn điều lệ lên 28,365 tỷ đồng.\"),\n",
    "                html.P(\"- Ngày 02/02/2018: Đổi tên thành Công ty Cổ phần Vinhomes.\"),\n",
    "                html.P(\"- Ngày 14/07/2017: Hủy đăng ký giao dịch trên thị trường UPCoM.\"),\n",
    "                html.P(\"- Ngày 12/02/2018: Giảm vốn điều lệ xuống 26,796 tỷ đồng.\"),\n",
    "                html.P(\"- Ngày 07/05/2018: Niêm yết trên Sở Giao dịch Chứng khoán Thành phố Hồ Chí Minh (HOSE).\"),\n",
    "                html.P(\"- Ngày 17/05/2018: là ngày giao dịch đầu tiên trên sàn HOSE với giá tham chiếu là 92,100 đ/CP.\"),\n",
    "                html.P(\"- Ngày 08/11/2018: Tăng vốn điều lệ lên 33,495 tỷ đồng.\"),\n",
    "                html.P(\"- Tháng 10/2021: Tăng vốn điều lệ lên 43,543 tỷ đồng.\"),\n",
    "            ])\n",
    "        ]),\n",
    "                html.Details([\n",
    "            html.Summary(\"Liên hệ\", style={'fontWeight': 'bold', 'fontSize': 'large'}),\n",
    "            html.Div([\n",
    "                html.P(\"Địa chỉ: Tòa nhà văn phòng Symphony - Đường Chu Huy Mân - KĐT Sinh thái Vinhomes Riverside - P. Phúc Lợi - Q. Long Biên - Tp. Hà Nội\"),\n",
    "                html.P(\"Điện thoại: (84.24) 3974 9350\"),\n",
    "                html.P(\"Fax: (84.24) 3974 9351\"),\n",
    "                html.P(\"Email:\tinfo@vinhomes.vn\"),\n",
    "                html.P(\"Website:\thttps://vinhomes.vn/\"),\n",
    "            ])\n",
    "        ]),\n",
    "    ])"
   ],
   "metadata": {
    "collapsed": false,
    "ExecuteTime": {
     "end_time": "2024-03-23T13:43:41.864181400Z",
     "start_time": "2024-03-23T13:43:41.845389200Z"
    }
   },
   "id": "310f82ddb7b53600"
  },
  {
   "cell_type": "markdown",
   "source": [
    "**Tạo web Dash**"
   ],
   "metadata": {
    "collapsed": false
   },
   "id": "aa9710881b946f72"
  },
  {
   "cell_type": "code",
   "execution_count": 25,
   "outputs": [],
   "source": [
    "#Khởi tạo web Dash:\n",
    "app = dash.Dash(__name__)\n",
    "\n",
    "app.layout = html.Div([\n",
    "    html.H1(\"Phân tích công ty Vinhomes (Mã: VHM)\"),\n",
    "    dcc.Tabs(id=\"tabs\", value='tab-1', children=[\n",
    "        dcc.Tab(label='Tổng quan', value='tab-1'),\n",
    "        dcc.Tab(label='Phân tích kỹ thuật', value='tab-2'),\n",
    "        dcc.Tab(label='Tài chính', value='tab-3'),\n",
    "        dcc.Tab(label='DN cùng ngành', value='tab-4'),\n",
    "    ]), \n",
    "    html.Div(id='tabs-content'),\n",
    "    html.Div([\n",
    "        dcc.Dropdown(\n",
    "            id='indicator-dropdown',\n",
    "            options=[\n",
    "                {'label': 'Price', 'value': 'price'},\n",
    "                {'label': 'SMA30', 'value': 'sma30'},\n",
    "                {'label': 'Bollinger Bands', 'value': 'bollinger'},\n",
    "                {'label': 'MACD', 'value': 'macd'},\n",
    "                {'label': 'RSI', 'value': 'rsi'},\n",
    "            ],\n",
    "            placeholder=\"Chọn một chỉ số\",  \n",
    "            style={'display': 'none'}  \n",
    "        )\n",
    "    ], id='dropdown-container'),\n",
    "    html.Div(id='technical-analysis-content', style={'display': 'none'})  \n",
    "])\n",
    "\n",
    "@app.callback(\n",
    "    Output('tabs-content', 'children'),\n",
    "    [Input('tabs', 'value')]\n",
    ")\n",
    "def render_tab_content(tab):\n",
    "    if tab == 'tab-1':\n",
    "        return generate_company_overview()\n",
    "    elif tab == 'tab-2':\n",
    "        return html.Div([\n",
    "            dcc.Dropdown(\n",
    "                id='indicator-dropdown',\n",
    "                options=[\n",
    "                    {'label': 'Price', 'value': 'price'},\n",
    "                    {'label': 'SMA30', 'value': 'sma30'},\n",
    "                    {'label': 'Bollinger Bands', 'value': 'bollinger'},\n",
    "                    {'label': 'MACD', 'value': 'macd'},\n",
    "                    {'label': 'RSI', 'value': 'rsi'},\n",
    "                ],\n",
    "                placeholder=\"Chọn một chỉ số\"  \n",
    "            ),\n",
    "            html.Div(id='technical-analysis-content')  \n",
    "        ])\n",
    "    elif tab == 'tab-3':\n",
    "        return generate_financial_analysis()\n",
    "    elif tab == 'tab-4':\n",
    "        return generate_industry_comparison()\n",
    "    else:\n",
    "        return html.Div(\"This tab has no content\")\n"
   ],
   "metadata": {
    "collapsed": false,
    "ExecuteTime": {
     "end_time": "2024-03-23T13:43:41.921696700Z",
     "start_time": "2024-03-23T13:43:41.871119900Z"
    }
   },
   "id": "bdf897ad4d0127d4"
  },
  {
   "cell_type": "code",
   "execution_count": 26,
   "outputs": [],
   "source": [
    "@app.callback(\n",
    "    Output('technical-analysis-content', 'children'),\n",
    "    [Input('indicator-dropdown', 'value')],\n",
    "    prevent_initial_call=True  \n",
    ")\n",
    "def update_technical_analysis(selected_indicator):\n",
    "    if selected_indicator == 'macd':\n",
    "        return generate_macd_chart()\n",
    "    elif selected_indicator == 'rsi':\n",
    "        return generate_rsi_chart()\n",
    "    elif selected_indicator == 'sma30':\n",
    "        return generate_sma_chart()\n",
    "    elif selected_indicator == 'bollinger':\n",
    "        return generate_bollinger_chart()\n",
    "    elif selected_indicator == 'price':\n",
    "        return price_vhm()\n",
    "    else:\n",
    "        return html.Div(\"Chọn một chỉ số\") \n"
   ],
   "metadata": {
    "collapsed": false,
    "ExecuteTime": {
     "end_time": "2024-03-23T13:43:41.921696700Z",
     "start_time": "2024-03-23T13:43:41.905722200Z"
    }
   },
   "id": "59a24eec07715882"
  },
  {
   "cell_type": "code",
   "execution_count": 27,
   "outputs": [
    {
     "data": {
      "text/plain": "<IPython.lib.display.IFrame at 0x1d2b8202090>",
      "text/html": "\n        <iframe\n            width=\"100%\"\n            height=\"650\"\n            src=\"http://127.0.0.1:8051/\"\n            frameborder=\"0\"\n            allowfullscreen\n            \n        ></iframe>\n        "
     },
     "metadata": {},
     "output_type": "display_data"
    }
   ],
   "source": [
    "# Run the app\n",
    "if __name__ == '__main__':\n",
    "    app.run_server(debug=True, port=8051)"
   ],
   "metadata": {
    "collapsed": false,
    "ExecuteTime": {
     "end_time": "2024-03-23T13:43:41.969636200Z",
     "start_time": "2024-03-23T13:43:41.908447400Z"
    }
   },
   "id": "41bd7dd2d748f564"
  }
 ],
 "metadata": {
  "kernelspec": {
   "display_name": "Python 3",
   "language": "python",
   "name": "python3"
  },
  "language_info": {
   "codemirror_mode": {
    "name": "ipython",
    "version": 2
   },
   "file_extension": ".py",
   "mimetype": "text/x-python",
   "name": "python",
   "nbconvert_exporter": "python",
   "pygments_lexer": "ipython2",
   "version": "2.7.6"
  }
 },
 "nbformat": 4,
 "nbformat_minor": 5
}
